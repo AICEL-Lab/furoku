{
 "cells": [
  {
   "cell_type": "code",
   "execution_count": 1,
   "id": "fcfa048e",
   "metadata": {},
   "outputs": [],
   "source": [
    "import numpy as np\n",
    "import pandas as pd\n",
    "import matplotlib.pyplot as plt\n",
    "from sklearn.model_selection import train_test_split\n",
    "from sklearn.ensemble import GradientBoostingRegressor\n",
    "from sklearn.model_selection import GridSearchCV\n",
    "from sklearn.metrics import mean_squared_error"
   ]
  },
  {
   "cell_type": "code",
   "execution_count": 2,
   "id": "ea0917c8",
   "metadata": {
    "scrolled": true
   },
   "outputs": [
    {
     "data": {
      "text/html": [
       "<div>\n",
       "<style scoped>\n",
       "    .dataframe tbody tr th:only-of-type {\n",
       "        vertical-align: middle;\n",
       "    }\n",
       "\n",
       "    .dataframe tbody tr th {\n",
       "        vertical-align: top;\n",
       "    }\n",
       "\n",
       "    .dataframe thead th {\n",
       "        text-align: right;\n",
       "    }\n",
       "</style>\n",
       "<table border=\"1\" class=\"dataframe\">\n",
       "  <thead>\n",
       "    <tr style=\"text-align: right;\">\n",
       "      <th></th>\n",
       "      <th>Glucose</th>\n",
       "      <th>Metal ion</th>\n",
       "      <th>Temperature</th>\n",
       "      <th>Buffer</th>\n",
       "      <th>Amino acid</th>\n",
       "      <th>Cell number</th>\n",
       "    </tr>\n",
       "  </thead>\n",
       "  <tbody>\n",
       "    <tr>\n",
       "      <th>0</th>\n",
       "      <td>0.00000</td>\n",
       "      <td>37.454010</td>\n",
       "      <td>27.49080</td>\n",
       "      <td>6.041169</td>\n",
       "      <td>161.1853</td>\n",
       "      <td>-0.93895</td>\n",
       "    </tr>\n",
       "    <tr>\n",
       "      <th>1</th>\n",
       "      <td>11.11111</td>\n",
       "      <td>95.071430</td>\n",
       "      <td>39.01429</td>\n",
       "      <td>7.939820</td>\n",
       "      <td>113.9494</td>\n",
       "      <td>26.02635</td>\n",
       "    </tr>\n",
       "    <tr>\n",
       "      <th>2</th>\n",
       "      <td>22.22222</td>\n",
       "      <td>73.199390</td>\n",
       "      <td>34.63988</td>\n",
       "      <td>7.664885</td>\n",
       "      <td>129.2145</td>\n",
       "      <td>30.52426</td>\n",
       "    </tr>\n",
       "    <tr>\n",
       "      <th>3</th>\n",
       "      <td>33.33333</td>\n",
       "      <td>59.865850</td>\n",
       "      <td>31.97317</td>\n",
       "      <td>6.424678</td>\n",
       "      <td>136.6362</td>\n",
       "      <td>34.42971</td>\n",
       "    </tr>\n",
       "    <tr>\n",
       "      <th>4</th>\n",
       "      <td>44.44444</td>\n",
       "      <td>15.601860</td>\n",
       "      <td>23.12037</td>\n",
       "      <td>6.363650</td>\n",
       "      <td>145.6070</td>\n",
       "      <td>38.64883</td>\n",
       "    </tr>\n",
       "    <tr>\n",
       "      <th>5</th>\n",
       "      <td>55.55556</td>\n",
       "      <td>15.599450</td>\n",
       "      <td>23.11989</td>\n",
       "      <td>6.366809</td>\n",
       "      <td>178.5176</td>\n",
       "      <td>36.52567</td>\n",
       "    </tr>\n",
       "    <tr>\n",
       "      <th>6</th>\n",
       "      <td>66.66667</td>\n",
       "      <td>5.808361</td>\n",
       "      <td>21.16167</td>\n",
       "      <td>6.608484</td>\n",
       "      <td>119.9674</td>\n",
       "      <td>38.69610</td>\n",
       "    </tr>\n",
       "    <tr>\n",
       "      <th>7</th>\n",
       "      <td>77.77778</td>\n",
       "      <td>86.617610</td>\n",
       "      <td>37.32352</td>\n",
       "      <td>7.049513</td>\n",
       "      <td>151.4234</td>\n",
       "      <td>42.54173</td>\n",
       "    </tr>\n",
       "    <tr>\n",
       "      <th>8</th>\n",
       "      <td>88.88889</td>\n",
       "      <td>60.111500</td>\n",
       "      <td>32.02230</td>\n",
       "      <td>6.863890</td>\n",
       "      <td>159.2415</td>\n",
       "      <td>42.96008</td>\n",
       "    </tr>\n",
       "    <tr>\n",
       "      <th>9</th>\n",
       "      <td>100.00000</td>\n",
       "      <td>70.807260</td>\n",
       "      <td>34.16145</td>\n",
       "      <td>6.582458</td>\n",
       "      <td>104.6450</td>\n",
       "      <td>46.77970</td>\n",
       "    </tr>\n",
       "  </tbody>\n",
       "</table>\n",
       "</div>"
      ],
      "text/plain": [
       "     Glucose  Metal ion  Temperature    Buffer  Amino acid  Cell number\n",
       "0    0.00000  37.454010     27.49080  6.041169    161.1853     -0.93895\n",
       "1   11.11111  95.071430     39.01429  7.939820    113.9494     26.02635\n",
       "2   22.22222  73.199390     34.63988  7.664885    129.2145     30.52426\n",
       "3   33.33333  59.865850     31.97317  6.424678    136.6362     34.42971\n",
       "4   44.44444  15.601860     23.12037  6.363650    145.6070     38.64883\n",
       "5   55.55556  15.599450     23.11989  6.366809    178.5176     36.52567\n",
       "6   66.66667   5.808361     21.16167  6.608484    119.9674     38.69610\n",
       "7   77.77778  86.617610     37.32352  7.049513    151.4234     42.54173\n",
       "8   88.88889  60.111500     32.02230  6.863890    159.2415     42.96008\n",
       "9  100.00000  70.807260     34.16145  6.582458    104.6450     46.77970"
      ]
     },
     "execution_count": 2,
     "metadata": {},
     "output_type": "execute_result"
    }
   ],
   "source": [
    "data = pd.read_excel(\"GBDT test data.xlsx\",sheet_name=\"data\")\n",
    "data"
   ]
  },
  {
   "cell_type": "code",
   "execution_count": 3,
   "id": "d47d3e52",
   "metadata": {},
   "outputs": [
    {
     "data": {
      "text/plain": [
       "Index(['Glucose', 'Metal ion', 'Temperature', 'Buffer', 'Amino acid'], dtype='object')"
      ]
     },
     "execution_count": 3,
     "metadata": {},
     "output_type": "execute_result"
    }
   ],
   "source": [
    "data = data.sample(frac=1)\n",
    "\n",
    "label = \"Cell number\"\n",
    "features=data.columns[0:5]\n",
    "features"
   ]
  },
  {
   "cell_type": "code",
   "execution_count": 4,
   "id": "78d04ed4",
   "metadata": {
    "scrolled": false
   },
   "outputs": [
    {
     "data": {
      "text/plain": [
       "GridSearchCV(cv=3, estimator=GradientBoostingRegressor(),\n",
       "             param_grid={'learning_rate': [0.01, 0.02, 0.03, 0.04, 0.05, 0.06,\n",
       "                                           0.07, 0.08, 0.09, 0.1, 0.11, 0.12,\n",
       "                                           0.13, 0.14, 0.15, 0.16, 0.17, 0.18,\n",
       "                                           0.19, 0.2, 0.21, 0.22, 0.23, 0.24,\n",
       "                                           0.25, 0.26, 0.27, 0.28, 0.29, 0.3, ...],\n",
       "                         'max_depth': [2, 3, 4, 5], 'n_estimators': [300]})"
      ]
     },
     "execution_count": 4,
     "metadata": {},
     "output_type": "execute_result"
    }
   ],
   "source": [
    "param_grid_gbdt = {\"learning_rate\":[i/100 for i in range(1,51,1)],  \n",
    "                   \"max_depth\":[2,3,4,5],\n",
    "                   \"n_estimators\":[300]}\n",
    "\n",
    "gbdt = GridSearchCV(GradientBoostingRegressor(),param_grid_gbdt,cv=3)\n",
    "\n",
    "gbdt.fit(data[features] , data[label])"
   ]
  },
  {
   "cell_type": "code",
   "execution_count": 5,
   "id": "b3ec8696",
   "metadata": {},
   "outputs": [
    {
     "data": {
      "text/plain": [
       "array([30.52426   , 38.6961    , 42.96007999, 36.52567   , 42.54172999,\n",
       "       34.42971   , -0.93894997, 46.77969998, 26.02635001, 38.64882999])"
      ]
     },
     "execution_count": 5,
     "metadata": {},
     "output_type": "execute_result"
    }
   ],
   "source": [
    "predicted = gbdt.predict(data[features])\n",
    "predicted"
   ]
  },
  {
   "cell_type": "code",
   "execution_count": 6,
   "id": "eb4d4a9f",
   "metadata": {},
   "outputs": [
    {
     "data": {
      "text/plain": [
       "array([30.52426, 38.6961 , 42.96008, 36.52567, 42.54173, 34.42971,\n",
       "       -0.93895, 46.7797 , 26.02635, 38.64883])"
      ]
     },
     "execution_count": 6,
     "metadata": {},
     "output_type": "execute_result"
    }
   ],
   "source": [
    "measured = np.array(data[label])\n",
    "measured"
   ]
  },
  {
   "cell_type": "code",
   "execution_count": 7,
   "id": "430c7c41",
   "metadata": {},
   "outputs": [
    {
     "data": {
      "text/plain": [
       "1.8711625032534293e-16"
      ]
     },
     "execution_count": 7,
     "metadata": {},
     "output_type": "execute_result"
    }
   ],
   "source": [
    "mse = mean_squared_error(measured, predicted)\n",
    "mse"
   ]
  },
  {
   "cell_type": "code",
   "execution_count": 8,
   "id": "073e876a",
   "metadata": {},
   "outputs": [
    {
     "data": {
      "image/png": "[encoded data removed]",
      "text/plain": [
       "<Figure size 500x500 with 1 Axes>"
      ]
     },
     "metadata": {},
     "output_type": "display_data"
    }
   ],
   "source": [
    "plt.rcParams[\"font.size\"] = 15\n",
    "plt.figure(figsize=(5,5))\n",
    "plt.scatter(measured,predicted,color=\"#2F5597\")\n",
    "plt.xlim(-5,50)\n",
    "plt.ylim(-5,50)\n",
    "plt.title(\"MSE = {}\".format(format(mse, \".2e\")))\n",
    "plt.xlabel(\"Measured\")\n",
    "plt.ylabel(\"Predicted\")\n",
    "\n",
    "plt.savefig(\"./result/Measured vs Predicted.pdf\",bbox_inches='tight', dpi=300)"
   ]
  },
  {
   "cell_type": "code",
   "execution_count": 9,
   "id": "10323f33",
   "metadata": {},
   "outputs": [
    {
     "data": {
      "text/plain": [
       "Glucose        0.746918\n",
       "Metal ion      0.033203\n",
       "Temperature    0.016579\n",
       "Buffer         0.194132\n",
       "Amino acid     0.009167\n",
       "dtype: float64"
      ]
     },
     "execution_count": 9,
     "metadata": {},
     "output_type": "execute_result"
    }
   ],
   "source": [
    "importance = {n:s for n, s in zip(features,gbdt.best_estimator_.feature_importances_)}\n",
    "importance = pd.Series(importance)\n",
    "importance"
   ]
  },
  {
   "cell_type": "code",
   "execution_count": 10,
   "id": "fc9795b0",
   "metadata": {},
   "outputs": [],
   "source": [
    "importance.to_csv(\"./result/importance.csv\")"
   ]
  },
  {
   "cell_type": "code",
   "execution_count": 11,
   "id": "2223b096",
   "metadata": {
    "scrolled": true
   },
   "outputs": [
    {
     "data": {
      "image/png": "[encoded data removed]",
      "text/plain": [
       "<Figure size 500x500 with 1 Axes>"
      ]
     },
     "metadata": {},
     "output_type": "display_data"
    }
   ],
   "source": [
    "importance = importance.sort_values(ascending=False)\n",
    "\n",
    "index = importance.index  \n",
    "values = importance.values  \n",
    "\n",
    "plt.rcParams[\"font.size\"] = 20\n",
    "fig, ax = plt.subplots(figsize=(5,5))\n",
    "ax.barh(index,values,color=\"#2F5597\")\n",
    "ax.invert_yaxis()\n",
    "ax.set_xlabel(\"Feature importance\") \n",
    "\n",
    "plt.savefig(\"./result/importance.pdf\",bbox_inches='tight', dpi=300)"
   ]
  },
  {
   "cell_type": "code",
   "execution_count": null,
   "id": "c7c9013c",
   "metadata": {},
   "outputs": [],
   "source": [
    "#以下はデータ分割後の精度評価"
   ]
  },
  {
   "cell_type": "code",
   "execution_count": 13,
   "id": "5161ef11",
   "metadata": {},
   "outputs": [],
   "source": [
    "data = pd.read_excel(\"GBDT test data.xlsx\",sheet_name = \"data\")\n",
    "train, test = train_test_split(data)"
   ]
  },
  {
   "cell_type": "code",
   "execution_count": 14,
   "id": "9e13caa2",
   "metadata": {},
   "outputs": [
    {
     "data": {
      "text/plain": [
       "GridSearchCV(cv=3, estimator=GradientBoostingRegressor(),\n",
       "             param_grid={'learning_rate': [0.01, 0.02, 0.03, 0.04, 0.05, 0.06,\n",
       "                                           0.07, 0.08, 0.09, 0.1, 0.11, 0.12,\n",
       "                                           0.13, 0.14, 0.15, 0.16, 0.17, 0.18,\n",
       "                                           0.19, 0.2, 0.21, 0.22, 0.23, 0.24,\n",
       "                                           0.25, 0.26, 0.27, 0.28, 0.29, 0.3, ...],\n",
       "                         'max_depth': [2, 3, 4, 5], 'n_estimators': [300]})"
      ]
     },
     "execution_count": 14,
     "metadata": {},
     "output_type": "execute_result"
    }
   ],
   "source": [
    "param_grid_gbdt = {\"learning_rate\":[i/100 for i in range(1,51,1)],  \n",
    "                   \"max_depth\":[2,3,4,5],\n",
    "                   \"n_estimators\":[300]}\n",
    "\n",
    "gbdt = GridSearchCV(GradientBoostingRegressor(),param_grid_gbdt,cv=3)\n",
    "\n",
    "gbdt.fit(train[features] , train[label])"
   ]
  },
  {
   "cell_type": "code",
   "execution_count": 17,
   "id": "bbbae66b",
   "metadata": {},
   "outputs": [
    {
     "data": {
      "text/plain": [
       "array([25.77517675, 39.84599563, 25.05965574])"
      ]
     },
     "execution_count": 17,
     "metadata": {},
     "output_type": "execute_result"
    }
   ],
   "source": [
    "predicted = gbdt.predict(test[features])\n",
    "predicted#予測値"
   ]
  },
  {
   "cell_type": "code",
   "execution_count": 18,
   "id": "4e139a19",
   "metadata": {},
   "outputs": [
    {
     "data": {
      "text/plain": [
       "array([26.02635, 30.52426, 36.52567])"
      ]
     },
     "execution_count": 18,
     "metadata": {},
     "output_type": "execute_result"
    }
   ],
   "source": [
    "measured = np.array(test[label])\n",
    "measured#実測値"
   ]
  },
  {
   "cell_type": "code",
   "execution_count": 19,
   "id": "ed094474",
   "metadata": {},
   "outputs": [
    {
     "data": {
      "text/plain": [
       "72.80910870004146"
      ]
     },
     "execution_count": 19,
     "metadata": {},
     "output_type": "execute_result"
    }
   ],
   "source": [
    "mse = mean_squared_error(measured, predicted)\n",
    "mse#平均二乗誤差"
   ]
  },
  {
   "cell_type": "code",
   "execution_count": 21,
   "id": "d2e6a285",
   "metadata": {},
   "outputs": [
    {
     "data": {
      "image/png": "[encoded data removed]",
      "text/plain": [
       "<Figure size 500x500 with 1 Axes>"
      ]
     },
     "metadata": {},
     "output_type": "display_data"
    }
   ],
   "source": [
    "plt.rcParams[\"font.size\"] = 15\n",
    "plt.figure(figsize=(5,5))\n",
    "plt.scatter(measured,predicted,color=\"#2F5597\")\n",
    "plt.xlim(-5,50)\n",
    "plt.ylim(-5,50)\n",
    "plt.title(\"MSE = {}\".format(format(mse, \".2e\")))\n",
    "plt.xlabel(\"Measured\")\n",
    "plt.ylabel(\"Predicted\")\n",
    "\n",
    "plt.savefig(\"./result/Measured vs Predicted Splitting.pdf\"\n",
    "            ,bbox_inches='tight', dpi=300)"
   ]
  },
  {
   "cell_type": "code",
   "execution_count": null,
   "id": "bd42f816",
   "metadata": {},
   "outputs": [],
   "source": []
  }
 ],
 "metadata": {
  "kernelspec": {
   "display_name": "Python 3 (ipykernel)",
   "language": "python",
   "name": "python3"
  },
  "language_info": {
   "codemirror_mode": {
    "name": "ipython",
    "version": 3
   },
   "file_extension": ".py",
   "mimetype": "text/x-python",
   "name": "python",
   "nbconvert_exporter": "python",
   "pygments_lexer": "ipython3",
   "version": "3.9.13"
  }
 },
 "nbformat": 4,
 "nbformat_minor": 5
}
